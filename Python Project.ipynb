{
 "cells": [
  {
   "cell_type": "markdown",
   "id": "4a341c18-07b5-41d2-ae24-e1bcf62575bb",
   "metadata": {},
   "source": [
    "# Project:- Command-Line Password Manager with Encryption\n",
    " Key Concepts:\n",
    "File Handling (json)\n",
    "Object-Oriented Programming\n",
    "Encryption using cryptography (you can also use a built-in alternative)\n",
    "User Input & Command Line Interface\n",
    "Exception Handling\n",
    "Dictionaries and Functions\n",
    "\n"
   ]
  },
  {
   "cell_type": "markdown",
   "id": "8e21aef0-01ce-43c9-b67f-4871e283c116",
   "metadata": {},
   "source": [
    "Problem Statement:\n",
    "Build a simple password manager that allows users to store, retrieve, and delete passwords for different services (like Gmail, Facebook, etc.). The passwords should be encrypted and saved in a local JSON file.\n",
    "\n"
   ]
  },
  {
   "cell_type": "markdown",
   "id": "0ff78fcb-42f4-4cd6-8463-e2c1724d284a",
   "metadata": {},
   "source": [
    "Key Features:\n",
    "Add new password (encrypted)\n",
    "\n",
    "Retrieve password by service name (decrypted)\n",
    "\n",
    "Delete password\n",
    "\n",
    "Master key authentication\n",
    "\n",
    "Save all credentials to an encrypted file"
   ]
  },
  {
   "cell_type": "markdown",
   "id": "3a791b6b-3879-459e-9ebe-eb28261fca96",
   "metadata": {},
   "source": [
    "Full Code (for Jupyter Notebook)\n",
    "We'll use cryptography.fernet to encrypt and decrypt passwords.\n",
    "\n",
    "🟦 Step 1: Install Required Library\n",
    "\n"
   ]
  },
  {
   "cell_type": "code",
   "execution_count": 17,
   "id": "9d9e4526-a1ed-42de-9943-6acdf98a43f7",
   "metadata": {},
   "outputs": [
    {
     "name": "stdout",
     "output_type": "stream",
     "text": [
      "Requirement already satisfied: cryptography in c:\\users\\shail\\anaconda3\\lib\\site-packages (43.0.0)\n",
      "Requirement already satisfied: cffi>=1.12 in c:\\users\\shail\\anaconda3\\lib\\site-packages (from cryptography) (1.17.1)\n",
      "Requirement already satisfied: pycparser in c:\\users\\shail\\anaconda3\\lib\\site-packages (from cffi>=1.12->cryptography) (2.21)\n"
     ]
    }
   ],
   "source": [
    "!pip install cryptography"
   ]
  },
  {
   "cell_type": "code",
   "execution_count": null,
   "id": "dd7c8222-5411-4f78-9c18-88e67e5e0f7f",
   "metadata": {},
   "outputs": [],
   "source": []
  },
  {
   "cell_type": "code",
   "execution_count": 19,
   "id": "21621b65-5e52-4645-b1f4-ac086eab0387",
   "metadata": {},
   "outputs": [],
   "source": [
    "# Step 2: Import Libraries\n",
    "from cryptography.fernet import Fernet\n",
    "import json\n",
    "import os\n"
   ]
  },
  {
   "cell_type": "code",
   "execution_count": 21,
   "id": "94da439b-7e64-4c8a-9dad-d7c9c1e4dd27",
   "metadata": {},
   "outputs": [],
   "source": [
    "#Step 3: Generate Encryption Key\n",
    "\n",
    "def generate_key():\n",
    "    key = Fernet.generate_key()\n",
    "    with open(\"key.key\", \"wb\") as key_file:\n",
    "        key_file.write(key)\n",
    "    print(\" Key generated and saved as 'key.key'.\")\n"
   ]
  },
  {
   "cell_type": "code",
   "execution_count": 23,
   "id": "453489a4-c315-445a-b5a1-92f8f1c18ead",
   "metadata": {},
   "outputs": [],
   "source": [
    "#Step 4: Load Encryption Key\n",
    "\n",
    "def load_key():\n",
    "    return open(\"key.key\", \"rb\").read()"
   ]
  },
  {
   "cell_type": "code",
   "execution_count": 25,
   "id": "87b1f035-2f1b-4f20-9c86-788ee3520de7",
   "metadata": {},
   "outputs": [],
   "source": [
    "#Step 5: Save Encrypted Password\n",
    "\n",
    "def add_password(service, username, password):\n",
    "    key = load_key()\n",
    "    f = Fernet(key)\n",
    "    encrypted = f.encrypt(password.encode())\n",
    "\n",
    "    data = {}\n",
    "    if os.path.exists(\"vault.json\"):\n",
    "        with open(\"vault.json\", \"r\") as file:\n",
    "            data = json.load(file)\n",
    "\n",
    "    data[service] = {\"username\": username, \"password\": encrypted.decode()}\n",
    "\n",
    "    with open(\"vault.json\", \"w\") as file:\n",
    "        json.dump(data, file, indent=4)\n",
    "    print(f\" Password added for: {service}\")"
   ]
  },
  {
   "cell_type": "code",
   "execution_count": null,
   "id": "912c8455-a1ee-43a2-a6b5-e891d03bcf86",
   "metadata": {},
   "outputs": [],
   "source": []
  },
  {
   "cell_type": "code",
   "execution_count": 27,
   "id": "add86360-7228-463f-a42f-5e03a5102c4b",
   "metadata": {},
   "outputs": [],
   "source": [
    "#Step 6: Retrieve Password\n",
    "\n",
    "def get_password(service):\n",
    "    key = load_key()\n",
    "    f = Fernet(key)\n",
    "\n",
    "    if os.path.exists(\"vault.json\"):\n",
    "        with open(\"vault.json\", \"r\") as file:\n",
    "            data = json.load(file)\n",
    "\n",
    "        if service in data:\n",
    "            encrypted_pwd = data[service][\"password\"].encode()\n",
    "            decrypted_pwd = f.decrypt(encrypted_pwd).decode()\n",
    "            print(f\" Service: {service}\")\n",
    "            print(f\" Username: {data[service]['username']}\")\n",
    "            print(f\" Password: {decrypted_pwd}\")\n",
    "        else:\n",
    "            print(\" Service not found.\")\n",
    "    else:\n",
    "        print(\"Vault not found.\")"
   ]
  },
  {
   "cell_type": "code",
   "execution_count": null,
   "id": "6d825013-79bb-4c25-a64e-3f93ad008d0e",
   "metadata": {},
   "outputs": [],
   "source": []
  },
  {
   "cell_type": "code",
   "execution_count": 29,
   "id": "28875117-dd1a-4138-b8ff-9f06957cfbfb",
   "metadata": {},
   "outputs": [],
   "source": [
    "# Step 7: Delete Password\n",
    "\n",
    "def delete_password(service):\n",
    "    if os.path.exists(\"vault.json\"):\n",
    "        with open(\"vault.json\", \"r\") as file:\n",
    "            data = json.load(file)\n",
    "\n",
    "        if service in data:\n",
    "            del data[service]\n",
    "            with open(\"vault.json\", \"w\") as file:\n",
    "                json.dump(data, file, indent=4)\n",
    "            print(f\" Deleted password for: {service}\")\n",
    "        else:\n",
    "            print(\" Service not found.\")\n",
    "    else:\n",
    "        print(\"Vault not found.\")"
   ]
  },
  {
   "cell_type": "code",
   "execution_count": null,
   "id": "24116da8-48d9-43b2-988c-9120bfb66322",
   "metadata": {},
   "outputs": [],
   "source": [
    "#Step 8: Main Interface\n",
    "while True:\n",
    "    print(\"\\n Password Manager Options:\")\n",
    "    print(\"1. Add Password\")\n",
    "    print(\"2. Retrieve Password\")\n",
    "    print(\"3. Delete Password\")\n",
    "    print(\"4. Exit\")\n",
    "\n",
    "    choice = input(\"Enter your choice: \")\n",
    "\n",
    "    if choice == \"1\":\n",
    "        service = input(\"Service Name: \")\n",
    "        username = input(\"Username: \")\n",
    "        password = input(\"Password: \")\n",
    "        add_password(service, username, password)\n",
    "\n",
    "    elif choice == \"2\":\n",
    "        service = input(\"Enter service to retrieve: \")\n",
    "        get_password(service)\n",
    "\n",
    "    elif choice == \"3\":\n",
    "        service = input(\"Enter service to delete: \")\n",
    "        delete_password(service)\n",
    "\n",
    "    elif choice == \"4\":\n",
    "        break\n",
    "    else:\n",
    "        print(\"Invalid option. Try again.\")"
   ]
  },
  {
   "cell_type": "markdown",
   "id": "ce17650f-00da-4fa0-87ea-3c570409cde7",
   "metadata": {},
   "source": [
    "Enter your choice: 1\n",
    "Service Name: Gmail\n",
    "Username: johndoe@gmail.com\n",
    "Password: mysecurepassword123"
   ]
  },
  {
   "cell_type": "markdown",
   "id": "e27507b3-3c39-425e-99dd-bdaac9940c8a",
   "metadata": {},
   "source": [
    "Documentation Content for Word File\n",
    "Project Name: Command-Line Password Manager with Encryption\n",
    "Objective:\n",
    "Securely store and retrieve user credentials (username and password) for various services with encrypted protection using a command-line interface.\n",
    "\n",
    "Core Concepts Used:\n",
    "File handling with JSON\n",
    "OOP and function-based design\n",
    "Encryption/Decryption using cryptography.fernet\n",
    "Exception Handling\n",
    "User Input / Menu-Driven Interface\n",
    "\n",
    "How It Works:\n",
    "A master encryption key is generated and stored safely in key.key.\n",
    "The user can:\n",
    "Add a service’s credentials\n",
    "Retrieve them\n",
    "Delete them\n",
    "Passwords are encrypted before storing and decrypted only on request.\n",
    "All data is saved locally in vault.json.\n",
    "\n",
    "Result:\n",
    "A secure offline password vault that can be extended further with authentication and GUI if needed.\n"
   ]
  },
  {
   "cell_type": "code",
   "execution_count": null,
   "id": "bfcf2aa3-bc37-4e49-b6c7-f7f3b04540d2",
   "metadata": {},
   "outputs": [],
   "source": []
  },
  {
   "cell_type": "code",
   "execution_count": null,
   "id": "bf3abf33-e5d7-41d0-be2d-20a02b74d565",
   "metadata": {},
   "outputs": [],
   "source": []
  },
  {
   "cell_type": "code",
   "execution_count": null,
   "id": "f700db2f-9f79-4f74-a797-443e79614177",
   "metadata": {},
   "outputs": [],
   "source": []
  },
  {
   "cell_type": "code",
   "execution_count": null,
   "id": "034c254c-1937-4612-a87e-cca0c6265680",
   "metadata": {},
   "outputs": [],
   "source": []
  },
  {
   "cell_type": "code",
   "execution_count": null,
   "id": "24384e92-00da-4bb0-a5f0-971afc7b4b13",
   "metadata": {},
   "outputs": [],
   "source": []
  },
  {
   "cell_type": "code",
   "execution_count": null,
   "id": "32bc9f19-f02f-4e5d-9ea8-affee0cec779",
   "metadata": {},
   "outputs": [],
   "source": []
  },
  {
   "cell_type": "code",
   "execution_count": null,
   "id": "d01c2e74-288f-4afa-9e86-6a742fd67239",
   "metadata": {},
   "outputs": [],
   "source": []
  }
 ],
 "metadata": {
  "kernelspec": {
   "display_name": "Python [conda env:base] *",
   "language": "python",
   "name": "conda-base-py"
  },
  "language_info": {
   "codemirror_mode": {
    "name": "ipython",
    "version": 3
   },
   "file_extension": ".py",
   "mimetype": "text/x-python",
   "name": "python",
   "nbconvert_exporter": "python",
   "pygments_lexer": "ipython3",
   "version": "3.12.7"
  }
 },
 "nbformat": 4,
 "nbformat_minor": 5
}
